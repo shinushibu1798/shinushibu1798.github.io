{
 "cells": [
  {
   "cell_type": "code",
   "execution_count": 28,
   "metadata": {},
   "outputs": [],
   "source": [
    "import pandas as pd\n",
    "from nltk.corpus import stopwords"
   ]
  },
  {
   "cell_type": "code",
   "execution_count": 30,
   "metadata": {},
   "outputs": [],
   "source": [
    "string = pd.read_csv('wordcloud.txt')['that'].value_counts()"
   ]
  },
  {
   "cell_type": "code",
   "execution_count": 33,
   "metadata": {},
   "outputs": [],
   "source": [
    "stopword = stopwords.words('english')"
   ]
  },
  {
   "cell_type": "code",
   "execution_count": 61,
   "metadata": {},
   "outputs": [],
   "source": [
    "val = []\n",
    "for i in list(string.index):\n",
    "    if i.lower() in stopword:\n",
    "        continue\n",
    "    if i.lower()=='interview':\n",
    "        continue\n",
    "    if i.lower()=='bacon' or i.lower()=='sausage':\n",
    "        continue\n",
    "    if i.lower()=='jimmy' or i.lower()=='i\\'m' or i.lower()=='3' or i.lower()=='lol':\n",
    "        continue\n",
    "    val += [i.lower()]*string[i]"
   ]
  },
  {
   "cell_type": "code",
   "execution_count": 63,
   "metadata": {},
   "outputs": [],
   "source": [
    "final_string = pd.DataFrame(val)[0].value_counts()[:20]"
   ]
  },
  {
   "cell_type": "code",
   "execution_count": 72,
   "metadata": {},
   "outputs": [],
   "source": [
    "f_string = ''\n",
    "for i in final_string.index:\n",
    "    f_string = f_string+' '+ ' '.join([i]*final_string[i])  "
   ]
  },
  {
   "cell_type": "code",
   "execution_count": 73,
   "metadata": {},
   "outputs": [
    {
     "data": {
      "text/plain": [
       "' rdj rdj rdj rdj rdj rdj rdj rdj rdj rdj rdj rdj rdj rdj rdj rdj rdj rdj rdj rdj rdj rdj rdj rdj rdj rdj rdj rdj rdj rdj rdj rdj rdj rdj rdj rdj rdj rdj rdj rdj rdj rdj rdj rdj rdj rdj rdj rdj rdj rdj rdj rdj rdj rdj rdj rdj rdj rdj rdj rdj rdj rdj rdj rdj rdj rdj rdj rdj rdj rdj rdj rdj rdj rdj rdj rdj rdj rdj rdj rdj rdj rdj rdj rdj rdj rdj rdj rdj rdj rdj rdj rdj rdj rdj rdj rdj rdj rdj rdj rdj rdj rdj rdj rdj rdj rdj rdj rdj rdj rdj rdj rdj rdj rdj rdj rdj rdj rdj rdj rdj rdj rdj rdj rdj rdj rdj rdj rdj rdj rdj rdj rdj rdj rdj rdj rdj rdj rdj rdj rdj rdj rdj rdj rdj rdj rdj rdj rdj rdj rdj rdj rdj rdj rdj rdj rdj rdj rdj rdj rdj rdj rdj rdj rdj rdj rdj rdj rdj rdj rdj rdj rdj rdj rdj rdj rdj rdj rdj rdj rdj rdj rdj rdj rdj rdj rdj rdj rdj rdj rdj rdj rdj rdj rdj rdj rdj rdj rdj rdj rdj rdj rdj rdj rdj rdj rdj rdj rdj rdj rdj rdj rdj rdj rdj rdj rdj rdj rdj rdj rdj rdj rdj rdj rdj rdj rdj rdj rdj rdj rdj rdj rdj rdj rdj rdj rdj rdj robert robert robert robert robert robert robert robert robert robert robert robert robert robert robert robert robert robert robert robert robert robert robert robert robert robert robert robert robert robert robert robert robert robert robert robert robert robert robert robert robert robert robert robert robert robert robert robert robert robert robert robert robert robert robert robert robert robert robert robert robert robert robert robert robert robert robert robert robert robert robert robert robert robert robert robert robert robert robert robert robert robert robert robert robert robert robert robert robert robert robert robert robert robert robert robert robert robert robert robert robert robert robert robert robert robert robert robert robert robert robert robert robert robert robert robert robert robert robert robert robert robert robert robert robert robert robert robert robert robert robert robert robert robert robert robert robert robert robert robert robert robert robert robert robert robert robert robert robert robert robert robert robert robert robert robert robert robert robert robert robert robert robert robert robert robert robert robert robert robert robert robert robert robert robert robert robert robert robert robert robert robert robert robert robert robert robert robert robert robert robert robert robert robert robert robert robert robert robert robert robert robert robert robert robert robert robert robert robert robert robert robert robert robert robert robert robert robert robert robert robert robert robert robert robert robert robert robert robert robert robert robert robert robert robert robert love love love love love love love love love love love love love love love love love love love love love love love love love love love love love love love love love love love love love love love love love love love love love love love love love love love love love love love love love love love love love love love love love love love love love love love love love love love love love love love love love love love love love love love love love love love love love love love love love love love love love love love love love love love love love love love love love love love love love love love love love love love love love love love love love love love love love love love love love love love love love love love love love love love love love love love love love love love love love love love love love love love love love love love love love love love love love love love love love love love love love love love love love love love love love love love love love love love love love love love love love love love love love love love love love love love love love like like like like like like like like like like like like like like like like like like like like like like like like like like like like like like like like like like like like like like like like like like like like like like like like like like like like like like like like like like like like like like like like like like like like like like like like like like like like like like like like like like like like like like like like like like like like like like like like like like like like like like like like like like like like like like like like like like like like like like like like like like like like like like like like like like like like like like like like like tony tony tony tony tony tony tony tony tony tony tony tony tony tony tony tony tony tony tony tony tony tony tony tony tony tony tony tony tony tony tony tony tony tony tony tony tony tony tony tony tony tony tony tony tony tony tony tony tony tony tony tony tony tony tony tony tony tony tony tony tony tony tony tony tony tony tony tony tony tony tony tony tony tony tony tony tony tony tony tony tony tony tony tony tony tony tony tony tony tony tony tony tony tony tony tony tony tony tony tony tony tony tony tony tony tony tony tony tony tony tony tony tony tony tony tony tony tony tony tony stark stark stark stark stark stark stark stark stark stark stark stark stark stark stark stark stark stark stark stark stark stark stark stark stark stark stark stark stark stark stark stark stark stark stark stark stark stark stark stark stark stark stark stark stark stark stark stark stark stark stark stark stark stark stark stark stark stark stark stark stark stark stark stark stark stark stark stark stark stark stark stark stark stark stark stark stark stark stark stark stark stark stark stark stark stark stark stark stark stark stark stark stark stark stark stark stark stark stark man man man man man man man man man man man man man man man man man man man man man man man man man man man man man man man man man man man man man man man man man man man man man man man man man man man man man man man man man man man man man man man man man man man man man man man man man man man man man man man man man man man man man man man man man man man downey downey downey downey downey downey downey downey downey downey downey downey downey downey downey downey downey downey downey downey downey downey downey downey downey downey downey downey downey downey downey downey downey downey downey downey downey downey downey downey downey downey downey downey downey downey downey downey downey downey downey downey downey downey downey downey downey downey downey downey downey downey downey downey downey downey downey downey downey downey downey downey downey downey downey downey downey downey downey downey downey downey downey downey downey downey 3000 3000 3000 3000 3000 3000 3000 3000 3000 3000 3000 3000 3000 3000 3000 3000 3000 3000 3000 3000 3000 3000 3000 3000 3000 3000 3000 3000 3000 3000 3000 3000 3000 3000 3000 3000 3000 3000 3000 3000 3000 3000 3000 3000 3000 3000 3000 3000 3000 3000 3000 3000 3000 3000 3000 3000 3000 3000 3000 3000 3000 3000 3000 3000 3000 3000 3000 3000 3000 3000 3000 3000 3000 3000 3000 3000 3000 3000 3000 3000 3000 3000 3000 3000 3000 3000 jr jr jr jr jr jr jr jr jr jr jr jr jr jr jr jr jr jr jr jr jr jr jr jr jr jr jr jr jr jr jr jr jr jr jr jr jr jr jr jr jr jr jr jr jr jr jr jr jr jr jr jr jr jr jr jr jr jr jr jr jr jr jr jr jr jr jr jr jr jr jr jr jr jr jr jr jr jr jr jr jr jr jr jr emotional emotional emotional emotional emotional emotional emotional emotional emotional emotional emotional emotional emotional emotional emotional emotional emotional emotional emotional emotional emotional emotional emotional emotional emotional emotional emotional emotional emotional emotional emotional emotional emotional emotional emotional emotional emotional emotional emotional emotional emotional emotional emotional emotional emotional emotional emotional emotional emotional emotional emotional emotional emotional emotional emotional emotional emotional emotional emotional emotional emotional emotional emotional emotional emotional emotional emotional emotional emotional emotional emotional emotional emotional emotional emotional emotional emotional emotional emotional emotional emotional emotional one one one one one one one one one one one one one one one one one one one one one one one one one one one one one one one one one one one one one one one one one one one one one one one one one one one one one one one one one one one one one one one one one one one one one one one one one one one one even even even even even even even even even even even even even even even even even even even even even even even even even even even even even even even even even even even even even even even even even even even even even even even even even even even even even even even even even even even even even even even even even even even even even even even even even even even know know know know know know know know know know know know know know know know know know know know know know know know know know know know know know know know know know know know know know know know know know know know know know know know know know know know know know know know know know know know know know know know know know know know know know know know know know best best best best best best best best best best best best best best best best best best best best best best best best best best best best best best best best best best best best best best best best best best best best best best best best best best best best best best best best best enough enough enough enough enough enough enough enough enough enough enough enough enough enough enough enough enough enough enough enough enough enough enough enough enough enough enough enough enough enough enough enough enough enough enough enough enough enough enough enough enough enough enough enough enough enough enough enough enough enough enough enough enough enough enough enough enough great great great great great great great great great great great great great great great great great great great great great great great great great great great great great great great great great great great great great great great great great great great great great great great great great great great great actor actor actor actor actor actor actor actor actor actor actor actor actor actor actor actor actor actor actor actor actor actor actor actor actor actor actor actor actor actor actor actor actor actor actor actor actor actor actor actor actor actor actor actor actor actor actor actor actor actor actor actor iron iron iron iron iron iron iron iron iron iron iron iron iron iron iron iron iron iron iron iron iron iron iron iron iron iron iron iron iron iron iron iron iron iron iron iron iron iron iron iron iron iron iron iron iron iron iron iron iron iron iron oh oh oh oh oh oh oh oh oh oh oh oh oh oh oh oh oh oh oh oh oh oh oh oh oh oh oh oh oh oh oh oh oh oh oh oh oh oh oh oh oh oh oh oh oh oh oh oh'"
      ]
     },
     "execution_count": 73,
     "metadata": {},
     "output_type": "execute_result"
    }
   ],
   "source": [
    "f_string"
   ]
  },
  {
   "cell_type": "code",
   "execution_count": null,
   "metadata": {},
   "outputs": [],
   "source": []
  }
 ],
 "metadata": {
  "kernelspec": {
   "display_name": "Python 3",
   "language": "python",
   "name": "python3"
  },
  "language_info": {
   "codemirror_mode": {
    "name": "ipython",
    "version": 3
   },
   "file_extension": ".py",
   "mimetype": "text/x-python",
   "name": "python",
   "nbconvert_exporter": "python",
   "pygments_lexer": "ipython3",
   "version": "3.7.3"
  }
 },
 "nbformat": 4,
 "nbformat_minor": 2
}
