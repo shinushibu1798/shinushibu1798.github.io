{
 "cells": [
  {
   "cell_type": "code",
   "execution_count": 28,
   "metadata": {},
   "outputs": [],
   "source": [
    "import pandas as pd\n",
    "from nltk.corpus import stopwords"
   ]
  },
  {
   "cell_type": "code",
   "execution_count": 30,
   "metadata": {},
   "outputs": [],
   "source": [
    "string = pd.read_csv('wordcloud.txt')['that'].value_counts()"
   ]
  },
  {
   "cell_type": "code",
   "execution_count": 33,
   "metadata": {},
   "outputs": [],
   "source": [
    "stopword = stopwords.words('english')"
   ]
  },
  {
   "cell_type": "code",
   "execution_count": 61,
   "metadata": {},
   "outputs": [],
   "source": [
    "val = []\n",
    "for i in list(string.index):\n",
    "    if i.lower() in stopword:\n",
    "        continue\n",
    "    if i.lower()=='interview':\n",
    "        continue\n",
    "    if i.lower()=='bacon' or i.lower()=='sausage':\n",
    "        continue\n",
    "    if i.lower()=='jimmy' or i.lower()=='i\\'m' or i.lower()=='3' or i.lower()=='lol':\n",
    "        continue\n",
    "    val += [i.lower()]*string[i]"
   ]
  },
  {
   "cell_type": "code",
   "execution_count": 63,
   "metadata": {},
   "outputs": [],
   "source": [
    "final_string = pd.DataFrame(val)[0].value_counts()[:20]"
   ]
  },
  {
   "cell_type": "code",
   "execution_count": 70,
   "metadata": {},
   "outputs": [],
   "source": [
    "f_string = ''\n",
    "for i in final_string.index:\n",
    "    f_string = f_string+' '+ ' '.join([i]*final_string[i])  "
   ]
  },
  {
   "cell_type": "code",
   "execution_count": 71,
   "metadata": {},
   "outputs": [
    {
     "data": {
      "text/plain": [
       "'rdj rdj rdj rdj rdj rdj rdj rdj rdj rdj rdj rdj rdj rdj rdj rdj rdj rdj rdj rdj rdj rdj rdj rdj rdj rdj rdj rdj rdj rdj rdj rdj rdj rdj rdj rdj rdj rdj rdj rdj rdj rdj rdj rdj rdj rdj rdj rdj rdj rdj rdj rdj rdj rdj rdj rdj rdj rdj rdj rdj rdj rdj rdj rdj rdj rdj rdj rdj rdj rdj rdj rdj rdj rdj rdj rdj rdj rdj rdj rdj rdj rdj rdj rdj rdj rdj rdj rdj rdj rdj rdj rdj rdj rdj rdj rdj rdj rdj rdj rdj rdj rdj rdj rdj rdj rdj rdj rdj rdj rdj rdj rdj rdj rdj rdj rdj rdj rdj rdj rdj rdj rdj rdj rdj rdj rdj rdj rdj rdj rdj rdj rdj rdj rdj rdj rdj rdj rdj rdj rdj rdj rdj rdj rdj rdj rdj rdj rdj rdj rdj rdj rdj rdj rdj rdj rdj rdj rdj rdj rdj rdj rdj rdj rdj rdj rdj rdj rdj rdj rdj rdj rdj rdj rdj rdj rdj rdj rdj rdj rdj rdj rdj rdj rdj rdj rdj rdj rdj rdj rdj rdj rdj rdj rdj rdj rdj rdj rdj rdj rdj rdj rdj rdj rdj rdj rdj rdj rdj rdj rdj rdj rdj rdj rdj rdj rdj rdj rdj rdj rdj rdj rdj rdj rdj rdj rdj rdj rdj rdj rdj rdj rdj rdj rdj rdj rdj rdjrobert robert robert robert robert robert robert robert robert robert robert robert robert robert robert robert robert robert robert robert robert robert robert robert robert robert robert robert robert robert robert robert robert robert robert robert robert robert robert robert robert robert robert robert robert robert robert robert robert robert robert robert robert robert robert robert robert robert robert robert robert robert robert robert robert robert robert robert robert robert robert robert robert robert robert robert robert robert robert robert robert robert robert robert robert robert robert robert robert robert robert robert robert robert robert robert robert robert robert robert robert robert robert robert robert robert robert robert robert robert robert robert robert robert robert robert robert robert robert robert robert robert robert robert robert robert robert robert robert robert robert robert robert robert robert robert robert robert robert robert robert robert robert robert robert robert robert robert robert robert robert robert robert robert robert robert robert robert robert robert robert robert robert robert robert robert robert robert robert robert robert robert robert robert robert robert robert robert robert robert robert robert robert robert robert robert robert robert robert robert robert robert robert robert robert robert robert robert robert robert robert robert robert robert robert robert robert robert robert robert robert robert robert robert robert robert robert robert robert robert robert robert robert robert robert robert robert robert robert robert robert robert robert robert robert robertlove love love love love love love love love love love love love love love love love love love love love love love love love love love love love love love love love love love love love love love love love love love love love love love love love love love love love love love love love love love love love love love love love love love love love love love love love love love love love love love love love love love love love love love love love love love love love love love love love love love love love love love love love love love love love love love love love love love love love love love love love love love love love love love love love love love love love love love love love love love love love love love love love love love love love love love love love love love love love love love love love love love love love love love love love love love love love love love love love love love love love love love love love love love love love love love love love love love love love love love love love love love love love love love love love love love love lovelike like like like like like like like like like like like like like like like like like like like like like like like like like like like like like like like like like like like like like like like like like like like like like like like like like like like like like like like like like like like like like like like like like like like like like like like like like like like like like like like like like like like like like like like like like like like like like like like like like like like like like like like like like like like like like like like like like like like like like like like like like like like like like like like like like like like like like like like liketony tony tony tony tony tony tony tony tony tony tony tony tony tony tony tony tony tony tony tony tony tony tony tony tony tony tony tony tony tony tony tony tony tony tony tony tony tony tony tony tony tony tony tony tony tony tony tony tony tony tony tony tony tony tony tony tony tony tony tony tony tony tony tony tony tony tony tony tony tony tony tony tony tony tony tony tony tony tony tony tony tony tony tony tony tony tony tony tony tony tony tony tony tony tony tony tony tony tony tony tony tony tony tony tony tony tony tony tony tony tony tony tony tony tony tony tony tony tony tonystark stark stark stark stark stark stark stark stark stark stark stark stark stark stark stark stark stark stark stark stark stark stark stark stark stark stark stark stark stark stark stark stark stark stark stark stark stark stark stark stark stark stark stark stark stark stark stark stark stark stark stark stark stark stark stark stark stark stark stark stark stark stark stark stark stark stark stark stark stark stark stark stark stark stark stark stark stark stark stark stark stark stark stark stark stark stark stark stark stark stark stark stark stark stark stark stark stark starkman man man man man man man man man man man man man man man man man man man man man man man man man man man man man man man man man man man man man man man man man man man man man man man man man man man man man man man man man man man man man man man man man man man man man man man man man man man man man man man man man man man man man man man man man man mandowney downey downey downey downey downey downey downey downey downey downey downey downey downey downey downey downey downey downey downey downey downey downey downey downey downey downey downey downey downey downey downey downey downey downey downey downey downey downey downey downey downey downey downey downey downey downey downey downey downey downey downey downey downey downey downey downey downey downey downey downey downey downey downey downey downey downey downey downey downey downey downey downey downey downey downey downey downey downey downey downey downey downey downey downey downey3000 3000 3000 3000 3000 3000 3000 3000 3000 3000 3000 3000 3000 3000 3000 3000 3000 3000 3000 3000 3000 3000 3000 3000 3000 3000 3000 3000 3000 3000 3000 3000 3000 3000 3000 3000 3000 3000 3000 3000 3000 3000 3000 3000 3000 3000 3000 3000 3000 3000 3000 3000 3000 3000 3000 3000 3000 3000 3000 3000 3000 3000 3000 3000 3000 3000 3000 3000 3000 3000 3000 3000 3000 3000 3000 3000 3000 3000 3000 3000 3000 3000 3000 3000 3000 3000jr jr jr jr jr jr jr jr jr jr jr jr jr jr jr jr jr jr jr jr jr jr jr jr jr jr jr jr jr jr jr jr jr jr jr jr jr jr jr jr jr jr jr jr jr jr jr jr jr jr jr jr jr jr jr jr jr jr jr jr jr jr jr jr jr jr jr jr jr jr jr jr jr jr jr jr jr jr jr jr jr jr jr jremotional emotional emotional emotional emotional emotional emotional emotional emotional emotional emotional emotional emotional emotional emotional emotional emotional emotional emotional emotional emotional emotional emotional emotional emotional emotional emotional emotional emotional emotional emotional emotional emotional emotional emotional emotional emotional emotional emotional emotional emotional emotional emotional emotional emotional emotional emotional emotional emotional emotional emotional emotional emotional emotional emotional emotional emotional emotional emotional emotional emotional emotional emotional emotional emotional emotional emotional emotional emotional emotional emotional emotional emotional emotional emotional emotional emotional emotional emotional emotional emotional emotionalone one one one one one one one one one one one one one one one one one one one one one one one one one one one one one one one one one one one one one one one one one one one one one one one one one one one one one one one one one one one one one one one one one one one one one one one one one one oneeven even even even even even even even even even even even even even even even even even even even even even even even even even even even even even even even even even even even even even even even even even even even even even even even even even even even even even even even even even even even even even even even even even even even even even even even even even evenknow know know know know know know know know know know know know know know know know know know know know know know know know know know know know know know know know know know know know know know know know know know know know know know know know know know know know know know know know know know know know know know know know know know know know know know know know knowbest best best best best best best best best best best best best best best best best best best best best best best best best best best best best best best best best best best best best best best best best best best best best best best best best best best best best best best best bestenough enough enough enough enough enough enough enough enough enough enough enough enough enough enough enough enough enough enough enough enough enough enough enough enough enough enough enough enough enough enough enough enough enough enough enough enough enough enough enough enough enough enough enough enough enough enough enough enough enough enough enough enough enough enough enough enoughgreat great great great great great great great great great great great great great great great great great great great great great great great great great great great great great great great great great great great great great great great great great great great great great great great great great great greatactor actor actor actor actor actor actor actor actor actor actor actor actor actor actor actor actor actor actor actor actor actor actor actor actor actor actor actor actor actor actor actor actor actor actor actor actor actor actor actor actor actor actor actor actor actor actor actor actor actor actor actoriron iron iron iron iron iron iron iron iron iron iron iron iron iron iron iron iron iron iron iron iron iron iron iron iron iron iron iron iron iron iron iron iron iron iron iron iron iron iron iron iron iron iron iron iron iron iron iron iron iron ironoh oh oh oh oh oh oh oh oh oh oh oh oh oh oh oh oh oh oh oh oh oh oh oh oh oh oh oh oh oh oh oh oh oh oh oh oh oh oh oh oh oh oh oh oh oh oh oh'"
      ]
     },
     "execution_count": 71,
     "metadata": {},
     "output_type": "execute_result"
    }
   ],
   "source": [
    "f_string"
   ]
  },
  {
   "cell_type": "code",
   "execution_count": null,
   "metadata": {},
   "outputs": [],
   "source": []
  }
 ],
 "metadata": {
  "kernelspec": {
   "display_name": "Python 3",
   "language": "python",
   "name": "python3"
  },
  "language_info": {
   "codemirror_mode": {
    "name": "ipython",
    "version": 3
   },
   "file_extension": ".py",
   "mimetype": "text/x-python",
   "name": "python",
   "nbconvert_exporter": "python",
   "pygments_lexer": "ipython3",
   "version": "3.7.3"
  }
 },
 "nbformat": 4,
 "nbformat_minor": 2
}
